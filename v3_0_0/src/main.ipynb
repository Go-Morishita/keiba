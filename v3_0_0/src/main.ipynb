{
 "cells": [
  {
   "cell_type": "markdown",
   "metadata": {},
   "source": [
    "# インポート"
   ]
  },
  {
   "cell_type": "code",
   "execution_count": 12,
   "metadata": {},
   "outputs": [
    {
     "name": "stdout",
     "output_type": "stream",
     "text": [
      "The autoreload extension is already loaded. To reload it, use:\n",
      "  %reload_ext autoreload\n"
     ]
    }
   ],
   "source": [
    "import preprocessing\n",
    "%load_ext autoreload"
   ]
  },
  {
   "cell_type": "markdown",
   "metadata": {},
   "source": [
    "# データ加工"
   ]
  },
  {
   "cell_type": "code",
   "execution_count": 13,
   "metadata": {},
   "outputs": [],
   "source": [
    "# レース結果テーブルの前処理\n",
    "results_preprocessed = preprocessing.process_results()"
   ]
  },
  {
   "cell_type": "code",
   "execution_count": 14,
   "metadata": {},
   "outputs": [
    {
     "data": {
      "text/plain": [
       "np.int64(0)"
      ]
     },
     "execution_count": 14,
     "metadata": {},
     "output_type": "execute_result"
    }
   ],
   "source": [
    "# 重複チェック\n",
    "results_preprocessed.duplicated(subset=[\"race_id\", \"horse_id\"]).sum() # 1つのレースに対して1つの馬になっているか？"
   ]
  },
  {
   "cell_type": "code",
   "execution_count": 15,
   "metadata": {},
   "outputs": [
    {
     "data": {
      "text/plain": [
       "race_id        0\n",
       "horse_id       0\n",
       "jockey_id      0\n",
       "trainer_id     0\n",
       "owner_id       0\n",
       "rank           0\n",
       "wakuban        0\n",
       "umaban         0\n",
       "sex            0\n",
       "age            0\n",
       "weight         0\n",
       "weight_diff    0\n",
       "tansho_odds    0\n",
       "popularity     0\n",
       "impost         0\n",
       "dtype: int64"
      ]
     },
     "execution_count": 15,
     "metadata": {},
     "output_type": "execute_result"
    }
   ],
   "source": [
    "# 欠損チェック\n",
    "results_preprocessed.isnull().sum()"
   ]
  },
  {
   "cell_type": "code",
   "execution_count": 16,
   "metadata": {},
   "outputs": [],
   "source": [
    "# 馬の過去成績テーブルの加工\n",
    "horse_results_preprocessed = preprocessing.process_horse_results() # ここでrace_classは未実装なので列は1つ少ない."
   ]
  },
  {
   "cell_type": "code",
   "execution_count": 17,
   "metadata": {},
   "outputs": [
    {
     "name": "stdout",
     "output_type": "stream",
     "text": [
      "<class 'pandas.core.frame.DataFrame'>\n",
      "Index: 209124 entries, 0 to 211457\n",
      "Data columns (total 10 columns):\n",
      " #   Column        Non-Null Count   Dtype         \n",
      "---  ------        --------------   -----         \n",
      " 0   horse_id      209124 non-null  int64         \n",
      " 1   date          209124 non-null  datetime64[ns]\n",
      " 2   rank          209124 non-null  float64       \n",
      " 3   prize         209124 non-null  float64       \n",
      " 4   rank_diff     208864 non-null  float64       \n",
      " 5   weather       208905 non-null  float64       \n",
      " 6   race_type     209124 non-null  int64         \n",
      " 7   course_len    209124 non-null  int64         \n",
      " 8   ground_state  209120 non-null  float64       \n",
      " 9   n_horses      209124 non-null  int64         \n",
      "dtypes: datetime64[ns](1), float64(5), int64(4)\n",
      "memory usage: 17.6 MB\n"
     ]
    }
   ],
   "source": [
    "horse_results_preprocessed.info()"
   ]
  }
 ],
 "metadata": {
  "kernelspec": {
   "display_name": "Python 3",
   "language": "python",
   "name": "python3"
  },
  "language_info": {
   "codemirror_mode": {
    "name": "ipython",
    "version": 3
   },
   "file_extension": ".py",
   "mimetype": "text/x-python",
   "name": "python",
   "nbconvert_exporter": "python",
   "pygments_lexer": "ipython3",
   "version": "3.12.0"
  }
 },
 "nbformat": 4,
 "nbformat_minor": 2
}
