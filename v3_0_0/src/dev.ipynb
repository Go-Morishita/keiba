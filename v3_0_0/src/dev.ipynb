{
 "cells": [
  {
   "cell_type": "markdown",
   "metadata": {},
   "source": [
    "# インポート"
   ]
  },
  {
   "cell_type": "code",
   "execution_count": 5,
   "metadata": {},
   "outputs": [],
   "source": [
    "import pandas as pd\n",
    "from pathlib import Path\n",
    "\n",
    "COMMON_DATA_DIR = Path(\"..\", \"..\", \"common\", \"data\")\n",
    "RAWDF_DIR = COMMON_DATA_DIR / \"rawdf\""
   ]
  },
  {
   "cell_type": "markdown",
   "metadata": {},
   "source": [
    "# データ加工"
   ]
  },
  {
   "cell_type": "markdown",
   "metadata": {},
   "source": [
    "## レース結果テーブルの加工"
   ]
  },
  {
   "cell_type": "code",
   "execution_count": 41,
   "metadata": {},
   "outputs": [],
   "source": [
    "df = pd.read_csv(RAWDF_DIR / \"results.csv\", sep=\"\\t\")"
   ]
  },
  {
   "cell_type": "code",
   "execution_count": 43,
   "metadata": {},
   "outputs": [
    {
     "data": {
      "text/html": [
       "<div>\n",
       "<style scoped>\n",
       "    .dataframe tbody tr th:only-of-type {\n",
       "        vertical-align: middle;\n",
       "    }\n",
       "\n",
       "    .dataframe tbody tr th {\n",
       "        vertical-align: top;\n",
       "    }\n",
       "\n",
       "    .dataframe thead th {\n",
       "        text-align: right;\n",
       "    }\n",
       "</style>\n",
       "<table border=\"1\" class=\"dataframe\">\n",
       "  <thead>\n",
       "    <tr style=\"text-align: right;\">\n",
       "      <th></th>\n",
       "      <th>ﾀｲﾑ指数</th>\n",
       "      <th>通過</th>\n",
       "      <th>上り</th>\n",
       "      <th>単勝</th>\n",
       "      <th>人気</th>\n",
       "      <th>馬体重</th>\n",
       "      <th>調教ﾀｲﾑ</th>\n",
       "      <th>厩舎ｺﾒﾝﾄ</th>\n",
       "      <th>備考</th>\n",
       "      <th>調教師</th>\n",
       "    </tr>\n",
       "  </thead>\n",
       "  <tbody>\n",
       "    <tr>\n",
       "      <th>0</th>\n",
       "      <td>**</td>\n",
       "      <td>2-2</td>\n",
       "      <td>34.3</td>\n",
       "      <td>1.2</td>\n",
       "      <td>1.0</td>\n",
       "      <td>452(-4)</td>\n",
       "      <td>NaN</td>\n",
       "      <td>NaN</td>\n",
       "      <td>NaN</td>\n",
       "      <td>[東] 鈴木伸尋</td>\n",
       "    </tr>\n",
       "    <tr>\n",
       "      <th>1</th>\n",
       "      <td>**</td>\n",
       "      <td>1-1</td>\n",
       "      <td>34.5</td>\n",
       "      <td>4.1</td>\n",
       "      <td>2.0</td>\n",
       "      <td>454(+2)</td>\n",
       "      <td>NaN</td>\n",
       "      <td>NaN</td>\n",
       "      <td>NaN</td>\n",
       "      <td>[東] 杉浦宏昭</td>\n",
       "    </tr>\n",
       "    <tr>\n",
       "      <th>2</th>\n",
       "      <td>**</td>\n",
       "      <td>5-4</td>\n",
       "      <td>34.5</td>\n",
       "      <td>59.9</td>\n",
       "      <td>6.0</td>\n",
       "      <td>438(-6)</td>\n",
       "      <td>NaN</td>\n",
       "      <td>NaN</td>\n",
       "      <td>NaN</td>\n",
       "      <td>[西] 羽月友彦</td>\n",
       "    </tr>\n",
       "    <tr>\n",
       "      <th>3</th>\n",
       "      <td>**</td>\n",
       "      <td>3-3</td>\n",
       "      <td>34.9</td>\n",
       "      <td>16.6</td>\n",
       "      <td>3.0</td>\n",
       "      <td>450(+2)</td>\n",
       "      <td>NaN</td>\n",
       "      <td>NaN</td>\n",
       "      <td>NaN</td>\n",
       "      <td>[西] 武幸四郎</td>\n",
       "    </tr>\n",
       "    <tr>\n",
       "      <th>4</th>\n",
       "      <td>**</td>\n",
       "      <td>8-8</td>\n",
       "      <td>34.5</td>\n",
       "      <td>23.9</td>\n",
       "      <td>5.0</td>\n",
       "      <td>434(-10)</td>\n",
       "      <td>NaN</td>\n",
       "      <td>NaN</td>\n",
       "      <td>NaN</td>\n",
       "      <td>[西] 今野貞一</td>\n",
       "    </tr>\n",
       "    <tr>\n",
       "      <th>...</th>\n",
       "      <td>...</td>\n",
       "      <td>...</td>\n",
       "      <td>...</td>\n",
       "      <td>...</td>\n",
       "      <td>...</td>\n",
       "      <td>...</td>\n",
       "      <td>...</td>\n",
       "      <td>...</td>\n",
       "      <td>...</td>\n",
       "      <td>...</td>\n",
       "    </tr>\n",
       "    <tr>\n",
       "      <th>47667</th>\n",
       "      <td>**</td>\n",
       "      <td>11-11-8-7</td>\n",
       "      <td>38.8</td>\n",
       "      <td>62.8</td>\n",
       "      <td>11.0</td>\n",
       "      <td>394(+2)</td>\n",
       "      <td>NaN</td>\n",
       "      <td>NaN</td>\n",
       "      <td>NaN</td>\n",
       "      <td>[西] 松永幹夫</td>\n",
       "    </tr>\n",
       "    <tr>\n",
       "      <th>47668</th>\n",
       "      <td>**</td>\n",
       "      <td>5-5-10-11</td>\n",
       "      <td>38.9</td>\n",
       "      <td>125.6</td>\n",
       "      <td>12.0</td>\n",
       "      <td>470(-4)</td>\n",
       "      <td>NaN</td>\n",
       "      <td>NaN</td>\n",
       "      <td>NaN</td>\n",
       "      <td>[西] 安田隆行</td>\n",
       "    </tr>\n",
       "    <tr>\n",
       "      <th>47669</th>\n",
       "      <td>**</td>\n",
       "      <td>3-3-4-5</td>\n",
       "      <td>39.9</td>\n",
       "      <td>9.8</td>\n",
       "      <td>5.0</td>\n",
       "      <td>496(+8)</td>\n",
       "      <td>NaN</td>\n",
       "      <td>NaN</td>\n",
       "      <td>NaN</td>\n",
       "      <td>[西] 森田直行</td>\n",
       "    </tr>\n",
       "    <tr>\n",
       "      <th>47670</th>\n",
       "      <td>**</td>\n",
       "      <td>2-2-4-7</td>\n",
       "      <td>40.0</td>\n",
       "      <td>37.2</td>\n",
       "      <td>10.0</td>\n",
       "      <td>440(-2)</td>\n",
       "      <td>NaN</td>\n",
       "      <td>NaN</td>\n",
       "      <td>NaN</td>\n",
       "      <td>[西] 大根田裕</td>\n",
       "    </tr>\n",
       "    <tr>\n",
       "      <th>47671</th>\n",
       "      <td>**</td>\n",
       "      <td>10-10-10-12</td>\n",
       "      <td>39.6</td>\n",
       "      <td>6.2</td>\n",
       "      <td>4.0</td>\n",
       "      <td>442(+6)</td>\n",
       "      <td>NaN</td>\n",
       "      <td>NaN</td>\n",
       "      <td>NaN</td>\n",
       "      <td>[西] 宮徹</td>\n",
       "    </tr>\n",
       "  </tbody>\n",
       "</table>\n",
       "<p>47672 rows × 10 columns</p>\n",
       "</div>"
      ],
      "text/plain": [
       "      ﾀｲﾑ指数           通過    上り     単勝    人気       馬体重  調教ﾀｲﾑ  厩舎ｺﾒﾝﾄ  備考  \\\n",
       "0        **          2-2  34.3    1.2   1.0   452(-4)    NaN     NaN NaN   \n",
       "1        **          1-1  34.5    4.1   2.0   454(+2)    NaN     NaN NaN   \n",
       "2        **          5-4  34.5   59.9   6.0   438(-6)    NaN     NaN NaN   \n",
       "3        **          3-3  34.9   16.6   3.0   450(+2)    NaN     NaN NaN   \n",
       "4        **          8-8  34.5   23.9   5.0  434(-10)    NaN     NaN NaN   \n",
       "...     ...          ...   ...    ...   ...       ...    ...     ...  ..   \n",
       "47667    **    11-11-8-7  38.8   62.8  11.0   394(+2)    NaN     NaN NaN   \n",
       "47668    **    5-5-10-11  38.9  125.6  12.0   470(-4)    NaN     NaN NaN   \n",
       "47669    **      3-3-4-5  39.9    9.8   5.0   496(+8)    NaN     NaN NaN   \n",
       "47670    **      2-2-4-7  40.0   37.2  10.0   440(-2)    NaN     NaN NaN   \n",
       "47671    **  10-10-10-12  39.6    6.2   4.0   442(+6)    NaN     NaN NaN   \n",
       "\n",
       "            調教師  \n",
       "0      [東] 鈴木伸尋  \n",
       "1      [東] 杉浦宏昭  \n",
       "2      [西] 羽月友彦  \n",
       "3      [西] 武幸四郎  \n",
       "4      [西] 今野貞一  \n",
       "...         ...  \n",
       "47667  [西] 松永幹夫  \n",
       "47668  [西] 安田隆行  \n",
       "47669  [西] 森田直行  \n",
       "47670  [西] 大根田裕  \n",
       "47671    [西] 宮徹  \n",
       "\n",
       "[47672 rows x 10 columns]"
      ]
     },
     "execution_count": 43,
     "metadata": {},
     "output_type": "execute_result"
    }
   ],
   "source": [
    "df.iloc[:, 10:20]"
   ]
  },
  {
   "cell_type": "code",
   "execution_count": 11,
   "metadata": {},
   "outputs": [
    {
     "data": {
      "text/plain": [
       "0         1\n",
       "1         2\n",
       "2         3\n",
       "3         4\n",
       "4         5\n",
       "         ..\n",
       "47667     8\n",
       "47668     9\n",
       "47669    10\n",
       "47670    11\n",
       "47671    12\n",
       "Name: 着順, Length: 47672, dtype: object"
      ]
     },
     "execution_count": 11,
     "metadata": {},
     "output_type": "execute_result"
    }
   ],
   "source": [
    "df[\"着順\"]"
   ]
  },
  {
   "cell_type": "code",
   "execution_count": 16,
   "metadata": {},
   "outputs": [
    {
     "data": {
      "text/plain": [
       "rank\n",
       "3.0     3460\n",
       "1.0     3459\n",
       "2.0     3456\n",
       "4.0     3456\n",
       "5.0     3456\n",
       "6.0     3443\n",
       "7.0     3424\n",
       "8.0     3367\n",
       "9.0     3259\n",
       "10.0    3101\n",
       "11.0    2895\n",
       "12.0    2637\n",
       "13.0    2342\n",
       "14.0    2047\n",
       "15.0    1708\n",
       "16.0    1279\n",
       "NaN      399\n",
       "17.0     280\n",
       "18.0     204\n",
       "Name: count, dtype: int64"
      ]
     },
     "execution_count": 16,
     "metadata": {},
     "output_type": "execute_result"
    }
   ],
   "source": [
    "df[\"rank\"] = pd.to_numeric(df[\"着順\"], errors=\"coerce\") # errors=\"coerce\"で変換できない文字を欠損値に変換.\n",
    "df[\"rank\"].value_counts(dropna=False)"
   ]
  },
  {
   "cell_type": "code",
   "execution_count": null,
   "metadata": {},
   "outputs": [],
   "source": [
    "df.dropna(subset=[\"rank\"], inplace=True) # 欠損値を省く"
   ]
  },
  {
   "cell_type": "code",
   "execution_count": 19,
   "metadata": {},
   "outputs": [
    {
     "data": {
      "text/plain": [
       "rank\n",
       "3.0     3460\n",
       "1.0     3459\n",
       "2.0     3456\n",
       "4.0     3456\n",
       "5.0     3456\n",
       "6.0     3443\n",
       "7.0     3424\n",
       "8.0     3367\n",
       "9.0     3259\n",
       "10.0    3101\n",
       "11.0    2895\n",
       "12.0    2637\n",
       "13.0    2342\n",
       "14.0    2047\n",
       "15.0    1708\n",
       "16.0    1279\n",
       "17.0     280\n",
       "18.0     204\n",
       "Name: count, dtype: int64"
      ]
     },
     "execution_count": 19,
     "metadata": {},
     "output_type": "execute_result"
    }
   ],
   "source": [
    "df[\"rank\"].value_counts(dropna=False)"
   ]
  },
  {
   "cell_type": "code",
   "execution_count": 24,
   "metadata": {},
   "outputs": [
    {
     "data": {
      "text/plain": [
       "0        5\n",
       "1        8\n",
       "2        6\n",
       "3        4\n",
       "4        1\n",
       "        ..\n",
       "47667    1\n",
       "47668    7\n",
       "47669    2\n",
       "47670    4\n",
       "47671    5\n",
       "Name: 馬番, Length: 47273, dtype: int64"
      ]
     },
     "execution_count": 24,
     "metadata": {},
     "output_type": "execute_result"
    }
   ],
   "source": [
    "df[\"馬番\"].astype(int)"
   ]
  },
  {
   "cell_type": "code",
   "execution_count": 30,
   "metadata": {},
   "outputs": [
    {
     "data": {
      "text/plain": [
       "性齢\n",
       "牡    25038\n",
       "牝    19922\n",
       "セ     2313\n",
       "Name: count, dtype: int64"
      ]
     },
     "execution_count": 30,
     "metadata": {},
     "output_type": "execute_result"
    }
   ],
   "source": [
    "df[\"性齢\"].str[0].value_counts()"
   ]
  },
  {
   "cell_type": "markdown",
   "metadata": {},
   "source": [
    "ラベルエンコーディング：カテゴリ変数を整数にマッピングするデータ加工手法"
   ]
  },
  {
   "cell_type": "code",
   "execution_count": 32,
   "metadata": {},
   "outputs": [],
   "source": [
    "sex_mapping = {\"牡\": 0, \"牝\": 1, \"セ\": 2}"
   ]
  },
  {
   "cell_type": "code",
   "execution_count": 33,
   "metadata": {},
   "outputs": [
    {
     "data": {
      "text/plain": [
       "性齢\n",
       "0    25038\n",
       "1    19922\n",
       "2     2313\n",
       "Name: count, dtype: int64"
      ]
     },
     "execution_count": 33,
     "metadata": {},
     "output_type": "execute_result"
    }
   ],
   "source": [
    "df[\"性齢\"].str[0].map(sex_mapping).value_counts()"
   ]
  },
  {
   "cell_type": "code",
   "execution_count": 36,
   "metadata": {},
   "outputs": [
    {
     "data": {
      "text/plain": [
       "0        2\n",
       "1        2\n",
       "2        2\n",
       "3        2\n",
       "4        2\n",
       "        ..\n",
       "47667    3\n",
       "47668    5\n",
       "47669    3\n",
       "47670    4\n",
       "47671    3\n",
       "Name: 性齢, Length: 47273, dtype: int64"
      ]
     },
     "execution_count": 36,
     "metadata": {},
     "output_type": "execute_result"
    }
   ],
   "source": [
    "df[\"性齢\"].str[1:].astype(int)"
   ]
  },
  {
   "cell_type": "code",
   "execution_count": 37,
   "metadata": {},
   "outputs": [
    {
     "data": {
      "text/plain": [
       "0        55.0\n",
       "1        55.0\n",
       "2        55.0\n",
       "3        55.0\n",
       "4        55.0\n",
       "         ... \n",
       "47667    53.0\n",
       "47668    55.0\n",
       "47669    55.0\n",
       "47670    55.0\n",
       "47671    52.0\n",
       "Name: 斤量, Length: 47273, dtype: float64"
      ]
     },
     "execution_count": 37,
     "metadata": {},
     "output_type": "execute_result"
    }
   ],
   "source": [
    "df[\"斤量\"]"
   ]
  },
  {
   "cell_type": "code",
   "execution_count": 48,
   "metadata": {},
   "outputs": [],
   "source": [
    "df[\"単勝\"] = pd.to_numeric(df[\"単勝\"], errors=\"coerce\")"
   ]
  },
  {
   "cell_type": "code",
   "execution_count": 51,
   "metadata": {},
   "outputs": [
    {
     "data": {
      "text/plain": [
       "0          1.2\n",
       "1          4.1\n",
       "2         59.9\n",
       "3         16.6\n",
       "4         23.9\n",
       "         ...  \n",
       "47667     62.8\n",
       "47668    125.6\n",
       "47669      9.8\n",
       "47670     37.2\n",
       "47671      6.2\n",
       "Name: 単勝, Length: 47672, dtype: float64"
      ]
     },
     "execution_count": 51,
     "metadata": {},
     "output_type": "execute_result"
    }
   ],
   "source": [
    "df[\"単勝\"]"
   ]
  }
 ],
 "metadata": {
  "kernelspec": {
   "display_name": "Python 3",
   "language": "python",
   "name": "python3"
  },
  "language_info": {
   "codemirror_mode": {
    "name": "ipython",
    "version": 3
   },
   "file_extension": ".py",
   "mimetype": "text/x-python",
   "name": "python",
   "nbconvert_exporter": "python",
   "pygments_lexer": "ipython3",
   "version": "3.12.0"
  }
 },
 "nbformat": 4,
 "nbformat_minor": 2
}
